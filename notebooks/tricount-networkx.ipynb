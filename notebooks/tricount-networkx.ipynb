{
 "cells": [
  {
   "cell_type": "markdown",
   "metadata": {
    "nbgrader": {
     "grade": false,
     "grade_id": "cell-324a96e6c478b2b2",
     "locked": true,
     "schema_version": 1,
     "solution": false
    }
   },
   "source": [
    "# Supplement: Triangle counting using NetworkX\n",
    "\n",
    "You can also count triangles using [NetworkX](https://networkx.github.io/), which is one of the _de facto_ standard libraries for graph computations in Python. This notebook contains some code to do so. It is intended as a companion to the notebook on a [matrix-based triangle counting method](./005-tricount3.ipynb), which we will assume you have looked through already. This notebook provides a \"slow\" baseline method and dumps some auxiliary data to disk, which the matrix-based notebook can use for testing."
   ]
  },
  {
   "cell_type": "markdown",
   "metadata": {},
   "source": [
    "The following cell uses NetworkX to create a simple undirected graph, render it visually, and then count its triangles."
   ]
  },
  {
   "cell_type": "code",
   "execution_count": 1,
   "metadata": {},
   "outputs": [
    {
     "name": "stdout",
     "output_type": "stream",
     "text": [
      "This graph has 2 triangles:\n",
      "Node-triangle occurrence counts: {0: 2, 1: 1, 2: 0, 3: 2, 4: 0, 5: 1}\n"
     ]
    },
    {
     "data": {
      "image/png": "[encoded data removed]",
      "text/plain": [
       "<Figure size 432x288 with 1 Axes>"
      ]
     },
     "metadata": {},
     "output_type": "display_data"
    }
   ],
   "source": [
    "import networkx\n",
    "%matplotlib inline\n",
    "\n",
    "V = list(range(6))\n",
    "E = [(0, 1), (0, 3), (0, 5), (1, 3), (5, 3), (3, 2), (3, 4)]\n",
    "G = networkx.Graph()\n",
    "G.add_nodes_from(V)\n",
    "G.add_edges_from(E)\n",
    "\n",
    "def count_triangles_nx(G, ret_tricounts=False):\n",
    "    \"\"\"\n",
    "    Given a NetworkX graph, `G`, this function returns the total number of\n",
    "    triangles it contains. If the argument `ret_C=True`, then it also returns\n",
    "    a dictionary where each (key, value) pair is the vertex and the number of\n",
    "    triangles that include that vertex.\n",
    "    \"\"\"\n",
    "    from networkx.algorithms.cluster import triangles\n",
    "    tricounts = triangles(G)\n",
    "    n_tri = sum(tricounts.values()) // 3\n",
    "    if ret_tricounts:\n",
    "        return n_tri, tricounts\n",
    "    return n_tri\n",
    "\n",
    "networkx.draw(G, with_labels=True)\n",
    "ntri_G, tricounts_G = count_triangles_nx(G, ret_tricounts=True)\n",
    "print(\"This graph has {} triangles:\".format(ntri_G))\n",
    "print(\"Node-triangle occurrence counts:\", tricounts_G)"
   ]
  },
  {
   "cell_type": "markdown",
   "metadata": {
    "nbgrader": {
     "grade": false,
     "grade_id": "cell-b4ec96c4fe4e412e",
     "locked": true,
     "schema_version": 1,
     "solution": false
    }
   },
   "source": [
    "## Tests on the actor network dataset\n",
    "\n",
    "Let's test the performance of the NetworkX code using data collected on a crawl of the [Top 250 movies on the Internet Movie Database](https://github.com/napsternxg/IMDB-Graph/tree/master/Data/tutorial/tutorial) (circa 2012).\n",
    "\n",
    "> These data should be available in the repository containing this notebook. However, an additional copy is available at the following URL, but you may need to adapt the code below to use it. https://cse6040.gatech.edu/datasets/imdb.zip"
   ]
  },
  {
   "cell_type": "code",
   "execution_count": 2,
   "metadata": {
    "nbgrader": {
     "grade": false,
     "grade_id": "cell-38fd73d5b41c7559",
     "locked": true,
     "schema_version": 1,
     "solution": false
    }
   },
   "outputs": [],
   "source": [
    "import json\n",
    "\n",
    "def fn(fn_base, dirname='./imdb/'):\n",
    "    return \"{}{}\".format(dirname, fn_base)\n",
    "\n",
    "def load_json(basefile):\n",
    "    filename = fn(basefile)\n",
    "    json_file = open(filename, encoding=\"utf8\")\n",
    "    json_str = json_file.read()\n",
    "    json_data = json.loads(json_str)\n",
    "    return json_data\n",
    "\n",
    "movies_json = load_json(\"imdb.json\")\n",
    "casts_json = load_json(\"imdb_cast.json\")"
   ]
  },
  {
   "cell_type": "markdown",
   "metadata": {
    "nbgrader": {
     "grade": false,
     "grade_id": "cell-5dd95a586866ea18",
     "locked": true,
     "schema_version": 1,
     "solution": false
    }
   },
   "source": [
    "**About the data.** There are two parts to the data.\n",
    "\n",
    "The first is `movies_json`, which is a JSON formatted collection of movie titles and IDs. It is a list and here are the first few entries:"
   ]
  },
  {
   "cell_type": "code",
   "execution_count": 3,
   "metadata": {
    "nbgrader": {
     "grade": false,
     "grade_id": "cell-64dd41d226beb116",
     "locked": true,
     "schema_version": 1,
     "solution": false
    },
    "scrolled": true
   },
   "outputs": [
    {
     "name": "stdout",
     "output_type": "stream",
     "text": [
      "=== First five entries of `movies_json` ===\n",
      "\n",
      "[0] {'link': ['/title/tt0111161/'], 'name': ['The Shawshank Redemption']}\n",
      "[1] {'link': ['/title/tt0068646/'], 'name': ['The Godfather']}\n",
      "[2] {'link': ['/title/tt0071562/'], 'name': ['The Godfather: Part II']}\n",
      "[3] {'link': ['/title/tt0110912/'], 'name': ['Pulp Fiction']}\n",
      "[4] {'link': ['/title/tt0060196/'], 'name': ['The Good, the Bad and the Ugly']}\n",
      "...\n"
     ]
    }
   ],
   "source": [
    "print(\"=== First five entries of `movies_json` ===\\n\")\n",
    "for k, m in enumerate(movies_json[:5]):\n",
    "    print(\"[{}] {}\".format(k, m))\n",
    "print(\"...\")"
   ]
  },
  {
   "cell_type": "markdown",
   "metadata": {
    "nbgrader": {
     "grade": false,
     "grade_id": "cell-8bf60a62bd7dfee1",
     "locked": true,
     "schema_version": 1,
     "solution": false
    }
   },
   "source": [
    "The second part is `casts_json`, which is a JSON formatted collection of movies with information about who appeared in the movie. It is also a list and here is the very first element.\n",
    "\n",
    "Observe that it is a dictionary with information about a single movie, including the movie's title, it's IMDB URL, and list of actors (cast members)."
   ]
  },
  {
   "cell_type": "code",
   "execution_count": 4,
   "metadata": {
    "nbgrader": {
     "grade": false,
     "grade_id": "cell-271118dbcfa67b0a",
     "locked": true,
     "schema_version": 1,
     "solution": false
    }
   },
   "outputs": [
    {
     "name": "stdout",
     "output_type": "stream",
     "text": [
      "=== First entry of `casts_json` ===\n",
      "\n",
      "{\n",
      "   \"movie\": {\n",
      "      \"url\": \"http://www.imdb.com/title/tt0050083/fullcredits\",\n",
      "      \"name\": [\n",
      "         \"12 Angry Men (1957) - Full cast and crew\"\n",
      "      ]\n",
      "   },\n",
      "   \"rank\": 1,\n",
      "   \"cast\": [\n",
      "      {\n",
      "         \"link\": [\n",
      "            \"/name/nm0000842/\"\n",
      "         ],\n",
      "         \"name\": [\n",
      "            \"Martin Balsam\"\n",
      "         ]\n",
      "      },\n",
      "      {\n",
      "         \"link\": [\n",
      "            \"/name/nm0275835/\"\n",
      "         ],\n",
      "         \"name\": [\n",
      "            \"John Fiedler\"\n",
      "         ]\n",
      "      },\n",
      "      {\n",
      "         \"link\": [\n",
      "            \"/name/nm0002011/\"\n",
      "         ],\n",
      "         \"name\": [\n",
      "            \"Lee J. Cobb\"\n",
      "         ]\n",
      "      },\n",
      "      {\n",
      "         \"link\": [\n",
      "            \"/name/nm0550855/\"\n",
      "         ],\n",
      "         \"name\": [\n",
      "            \"E.G. Marshall\"\n",
      "         ]\n",
      "      },\n",
      "      {\n",
      "         \"link\": [\n",
      "            \"/name/nm0001430/\"\n",
      "         ],\n",
      "         \"name\": [\n",
      "            \"Jack Klugman\"\n",
      "         ]\n",
      "      },\n",
      "      {\n",
      "         \"link\": [\n",
      "            \"/name/nm0083081/\"\n",
      "         ],\n",
      "         \"name\": [\n",
      "            \"Edward Binns\"\n",
      "         ]\n",
      "      },\n",
      "      {\n",
      "         \"link\": [\n",
      "            \"/name/nm0912001/\"\n",
      "         ],\n",
      "         \"name\": [\n",
      "            \"Jack Warden\"\n",
      "         ]\n",
      "      },\n",
      "      {\n",
      "         \"link\": [\n",
      "            \"/name/nm0000020/\"\n",
      "         ],\n",
      "         \"name\": [\n",
      "            \"Henry Fonda\"\n",
      "         ]\n",
      "      },\n",
      "      {\n",
      "         \"link\": [\n",
      "            \"/name/nm0842137/\"\n",
      "         ],\n",
      "         \"name\": [\n",
      "            \"Joseph Sweeney\"\n",
      "         ]\n",
      "      },\n",
      "      {\n",
      "         \"link\": [\n",
      "            \"/name/nm0003225/\"\n",
      "         ],\n",
      "         \"name\": [\n",
      "            \"Ed Begley\"\n",
      "         ]\n",
      "      },\n",
      "      {\n",
      "         \"link\": [\n",
      "            \"/name/nm0903667/\"\n",
      "         ],\n",
      "         \"name\": [\n",
      "            \"George Voskovec\"\n",
      "         ]\n",
      "      },\n",
      "      {\n",
      "         \"link\": [\n",
      "            \"/name/nm0916434/\"\n",
      "         ],\n",
      "         \"name\": [\n",
      "            \"Robert Webber\"\n",
      "         ]\n",
      "      },\n",
      "      {\n",
      "         \"link\": [\n",
      "            \"/name/nm0094036/\"\n",
      "         ],\n",
      "         \"name\": [\n",
      "            \"Rudy Bond\"\n",
      "         ]\n",
      "      },\n",
      "      {\n",
      "         \"link\": [\n",
      "            \"/name/nm0446450/\"\n",
      "         ],\n",
      "         \"name\": [\n",
      "            \"James Kelly\"\n",
      "         ]\n",
      "      },\n",
      "      {\n",
      "         \"link\": [\n",
      "            \"/name/nm0625180/\"\n",
      "         ],\n",
      "         \"name\": [\n",
      "            \"Billy Nelson\"\n",
      "         ]\n",
      "      },\n",
      "      {\n",
      "         \"link\": [\n",
      "            \"/name/nm0767847/\"\n",
      "         ],\n",
      "         \"name\": [\n",
      "            \"John Savoca\"\n",
      "         ]\n",
      "      }\n",
      "   ]\n",
      "}\n"
     ]
    }
   ],
   "source": [
    "print(\"=== First entry of `casts_json` ===\\n\")\n",
    "print(json.dumps(casts_json[0], indent=3))"
   ]
  },
  {
   "cell_type": "markdown",
   "metadata": {
    "nbgrader": {
     "grade": false,
     "grade_id": "cell-5b42af76df60880f",
     "locked": true,
     "schema_version": 1,
     "solution": false
    }
   },
   "source": [
    "**Extracting a list of actors.** Given the `casts_json` list, the `gather_actors()` function returns a dictionary that maps actor links to actor names.\n",
    "\n",
    "In the example above, the first actor listed for \"12 Angry Men\" is `\"Martin Balsam\"`, whose link is `\"/name/nm0000842/\"`. Therefore, the dictionary that your function returns should include the key-value pair, `\"/name/nm0000842/\" : \"Martin Balsam\"`.\n",
    "\n",
    "This function will help us inspect the ultimate analysis output."
   ]
  },
  {
   "cell_type": "code",
   "execution_count": 5,
   "metadata": {
    "nbgrader": {
     "grade": false,
     "grade_id": "gather_actors",
     "locked": false,
     "schema_version": 1,
     "solution": true
    }
   },
   "outputs": [
    {
     "name": "stdout",
     "output_type": "stream",
     "text": [
      "Found 12975 unique actors.\n",
      "\n",
      "'/name/nm0000842/' -> 'Martin Balsam'\n"
     ]
    }
   ],
   "source": [
    "def gather_actors(casts):\n",
    "    actors = dict() # Use to store (actor link) : (actor name) pairs\n",
    "    for movie in casts:\n",
    "        assert \"cast\" in movie\n",
    "        for actor in movie[\"cast\"]:\n",
    "            link = actor[\"link\"][0]\n",
    "            name = actor[\"name\"][0]\n",
    "            actors[link] = name\n",
    "    return actors\n",
    "\n",
    "actors = gather_actors(casts_json)\n",
    "print(\"Found {} unique actors.\\n\".format(len(actors)))\n",
    "\n",
    "assert \"/name/nm0000842/\" in actors\n",
    "print(\"'{}' -> '{}'\".format(\"/name/nm0000842/\", actors[\"/name/nm0000842/\"]))\n",
    "assert actors[\"/name/nm0000842/\"] == \"Martin Balsam\""
   ]
  },
  {
   "cell_type": "markdown",
   "metadata": {},
   "source": [
    "The following cell is just a unit-test for `gather_actors()`."
   ]
  },
  {
   "cell_type": "code",
   "execution_count": 6,
   "metadata": {
    "nbgrader": {
     "grade": true,
     "grade_id": "gather_actors_test",
     "locked": true,
     "points": 2,
     "schema_version": 1,
     "solution": false
    }
   },
   "outputs": [
    {
     "name": "stdout",
     "output_type": "stream",
     "text": [
      "\n",
      "(Passed!)\n"
     ]
    }
   ],
   "source": [
    "# Test cell: `gather_actors_test`\n",
    "\n",
    "assert (\"/name/nm0872820/\" in actors) and (actors[\"/name/nm0872820/\"] == \"Amedeo Trilli\")\n",
    "assert (\"/name/nm0279786/\" in actors) and (actors[\"/name/nm0279786/\"] == \"Shug Fisher\")\n",
    "assert (\"/name/nm0802831/\" in actors) and (actors[\"/name/nm0802831/\"] == \"Tony Sirico\")\n",
    "assert (\"/name/nm0924692/\" in actors) and (actors[\"/name/nm0924692/\"] == \"Dean White\")\n",
    "assert (\"/name/nm0248074/\" in actors) and (actors[\"/name/nm0248074/\"] == \"Jake Eberle\")\n",
    "assert (\"/name/nm1067542/\" in actors) and (actors[\"/name/nm1067542/\"] == \"Grace Keller\")\n",
    "assert (\"/name/nm0903694/\" in actors) and (actors[\"/name/nm0903694/\"] == \"Carl Voss\")\n",
    "assert (\"/name/nm1504897/\" in actors) and (actors[\"/name/nm1504897/\"] == \"Radka Kucharova\")\n",
    "assert (\"/name/nm0644905/\" in actors) and (actors[\"/name/nm0644905/\"] == \"Tae-kyung Oh\")\n",
    "assert (\"/name/nm0727037/\" in actors) and (actors[\"/name/nm0727037/\"] == \"Gary Riley\")\n",
    "assert (\"/name/nm2006011/\" in actors) and (actors[\"/name/nm2006011/\"] == \"Glenn Stanton\")\n",
    "assert (\"/name/nm0193389/\" in actors) and (actors[\"/name/nm0193389/\"] == \"John Curtis\")\n",
    "assert (\"/name/nm0829189/\" in actors) and (actors[\"/name/nm0829189/\"] == \"Avril Stewart\")\n",
    "assert (\"/name/nm1211469/\" in actors) and (actors[\"/name/nm1211469/\"] == \"Karine Asure\")\n",
    "assert (\"/name/nm0598388/\" in actors) and (actors[\"/name/nm0598388/\"] == \"Jacques Monod\")\n",
    "assert (\"/name/nm1663820/\" in actors) and (actors[\"/name/nm1663820/\"] == \"Michael Garnet Stewart\")\n",
    "assert (\"/name/nm0009388/\" in actors) and (actors[\"/name/nm0009388/\"] == \"Khosrow Abrishami\")\n",
    "assert (\"/name/nm0020513/\" in actors) and (actors[\"/name/nm0020513/\"] == \"Fletcher Allen\")\n",
    "assert (\"/name/nm0615419/\" in actors) and (actors[\"/name/nm0615419/\"] == \"John Murtagh\")\n",
    "assert (\"/name/nm0120165/\" in actors) and (actors[\"/name/nm0120165/\"] == \"Keith S. Bullock\")\n",
    "assert (\"/name/nm0448560/\" in actors) and (actors[\"/name/nm0448560/\"] == \"Colin Kenny\")\n",
    "assert (\"/name/nm0882139/\" in actors) and (actors[\"/name/nm0882139/\"] == \"David Ursin\")\n",
    "assert (\"/name/nm1597244/\" in actors) and (actors[\"/name/nm1597244/\"] == \"Carol Meirelles\")\n",
    "assert (\"/name/nm0316079/\" in actors) and (actors[\"/name/nm0316079/\"] == \"Paul Giamatti\")\n",
    "assert (\"/name/nm3546231/\" in actors) and (actors[\"/name/nm3546231/\"] == \"Leonard B. John\")\n",
    "\n",
    "print(\"\\n(Passed!)\")"
   ]
  },
  {
   "cell_type": "markdown",
   "metadata": {},
   "source": [
    "**Using NetworkX to count the triangles.** Let's define the actor network graph as follows. Each actor is a node; an edge exists between two actors if they appeared in the same movie.\n",
    "\n",
    "Convince yourself that the following implementation computes the triangles correctly, assuming the NetworkX implementation is correct."
   ]
  },
  {
   "cell_type": "code",
   "execution_count": 7,
   "metadata": {},
   "outputs": [
    {
     "name": "stdout",
     "output_type": "stream",
     "text": [
      "Found ~ 24.6 million triangles in all.\n"
     ]
    }
   ],
   "source": [
    "def build_actor_network(casts):\n",
    "    from itertools import combinations\n",
    "    actors = gather_actors(casts)\n",
    "    G = networkx.Graph()\n",
    "    G.add_nodes_from(actors.keys())\n",
    "    for movie in casts:\n",
    "        for ai, aj in combinations(movie[\"cast\"], 2):\n",
    "            G.add_edge(ai['link'][0], aj['link'][0])\n",
    "    return G\n",
    "\n",
    "G_casts = build_actor_network(casts_json)\n",
    "ntri_nx, tricounts_nx = count_triangles_nx(G_casts, ret_tricounts=True)\n",
    "print(\"Found ~ {:.1f} million triangles in all.\".format(ntri_nx*1e-6))"
   ]
  },
  {
   "cell_type": "markdown",
   "metadata": {},
   "source": [
    "And, let's measure how fast it is:"
   ]
  },
  {
   "cell_type": "code",
   "execution_count": 8,
   "metadata": {
    "scrolled": true
   },
   "outputs": [
    {
     "name": "stdout",
     "output_type": "stream",
     "text": [
      "16.2 s ± 294 ms per loop (mean ± std. dev. of 7 runs, 1 loop each)\n"
     ]
    }
   ],
   "source": [
    "t_nx = %timeit -o count_triangles_nx(G_casts)"
   ]
  },
  {
   "cell_type": "code",
   "execution_count": 9,
   "metadata": {},
   "outputs": [
    {
     "name": "stdout",
     "output_type": "stream",
     "text": [
      "Timer unit: 1e-06 s\n",
      "\n",
      "Total time: 18.9066 s\n",
      "File: <ipython-input-1-1a18f48e041f>\n",
      "Function: count_triangles_nx at line 10\n",
      "\n",
      "Line #      Hits         Time  Per Hit   % Time  Line Contents\n",
      "==============================================================\n",
      "    10                                           def count_triangles_nx(G, ret_tricounts=False):\n",
      "    11                                               \"\"\"\n",
      "    12                                               Given a NetworkX graph, `G`, this function returns the total number of\n",
      "    13                                               triangles it contains. If the argument `ret_C=True`, then it also returns\n",
      "    14                                               a dictionary where each (key, value) pair is the vertex and the number of\n",
      "    15                                               triangles that include that vertex.\n",
      "    16                                               \"\"\"\n",
      "    17         1         18.0     18.0      0.0      from networkx.algorithms.cluster import triangles\n",
      "    18         1   18906475.0 18906475.0    100.0      tricounts = triangles(G)\n",
      "    19         1        108.0    108.0      0.0      n_tri = sum(tricounts.values()) // 3\n",
      "    20         1          1.0      1.0      0.0      if ret_tricounts:\n",
      "    21                                                   return n_tri, tricounts\n",
      "    22         1          1.0      1.0      0.0      return n_tri\n",
      "\n"
     ]
    }
   ],
   "source": [
    "%load_ext line_profiler\n",
    "profile = %lprun -r -u 1.0 -f count_triangles_nx count_triangles_nx(G_casts)\n",
    "profile.print_stats()"
   ]
  },
  {
   "cell_type": "markdown",
   "metadata": {},
   "source": [
    "**Data export.** Lastly, let's dump this dataset to disk."
   ]
  },
  {
   "cell_type": "code",
   "execution_count": 10,
   "metadata": {},
   "outputs": [],
   "source": [
    "from scipy.sparse import save_npz\n",
    "from pickle import dump\n",
    "\n",
    "V_actors = list(G_casts.nodes())\n",
    "A_casts = networkx.convert_matrix.to_scipy_sparse_matrix(G_casts, nodelist=V_actors)\n",
    "\n",
    "with open('imdb_tricounts.pickle', 'wb') as fp:\n",
    "    dump(ntri_nx, fp)\n",
    "with open('imdb_tricounts_matrix.pickle', 'wb') as fp:\n",
    "    dump(tricounts_nx, fp)\n",
    "with open('imdb_actors.pickle', 'wb') as fp:\n",
    "    dump(V_actors, fp)\n",
    "save_npz(\"imdb_matrix.npz\", A_casts)"
   ]
  },
  {
   "cell_type": "code",
   "execution_count": 11,
   "metadata": {},
   "outputs": [
    {
     "name": "stdout",
     "output_type": "stream",
     "text": [
      "-rw-r--r--  1 richie  staff  336617 Jul 17 13:43 imdb_actors.pickle\r\n",
      "-rw-r--r--  1 richie  staff  267778 Jul 17 13:43 imdb_matrix.npz\r\n",
      "-rw-r--r--  1 richie  staff       8 Jul 17 13:43 imdb_tricounts.pickle\r\n",
      "-rw-r--r--  1 richie  staff  375204 Jul 17 13:43 imdb_tricounts_matrix.pickle\r\n"
     ]
    }
   ],
   "source": [
    "!ls -al imdb*.pickle imdb*.npz"
   ]
  },
  {
   "cell_type": "markdown",
   "metadata": {
    "nbgrader": {
     "grade": false,
     "grade_id": "cell-d3f5c8a0add3fec7",
     "locked": true,
     "schema_version": 1,
     "solution": false
    }
   },
   "source": [
    "**Fin!** We hope this notebook has been a useful tutorial of how to use Intrepydd's sparse matrix operations, in the context of implementing graph algorithms that exploits the duality between a sparse matrix and a sparse graph."
   ]
  }
 ],
 "metadata": {
  "celltoolbar": "Create Assignment",
  "kernelspec": {
   "display_name": "Python 3",
   "language": "python",
   "name": "python3"
  },
  "language_info": {
   "codemirror_mode": {
    "name": "ipython",
    "version": 3
   },
   "file_extension": ".py",
   "mimetype": "text/x-python",
   "name": "python",
   "nbconvert_exporter": "python",
   "pygments_lexer": "ipython3",
   "version": "3.7.3"
  }
 },
 "nbformat": 4,
 "nbformat_minor": 1
}
